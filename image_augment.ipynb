{
  "nbformat": 4,
  "nbformat_minor": 0,
  "metadata": {
    "colab": {
      "provenance": []
    },
    "kernelspec": {
      "name": "python3",
      "display_name": "Python 3"
    },
    "language_info": {
      "name": "python"
    }
  },
  "cells": [
    {
      "cell_type": "code",
      "execution_count": null,
      "metadata": {
        "colab": {
          "base_uri": "https://localhost:8080/"
        },
        "id": "C_DDI5UnKKEi",
        "outputId": "50f995ff-4409-4dfd-a04d-ff61efa516f9"
      },
      "outputs": [
        {
          "output_type": "stream",
          "name": "stdout",
          "text": [
            "✅ 30 augmented images saved in: augmented/digit_dotmiss\n"
          ]
        }
      ],
      "source": [
        "import cv2\n",
        "import numpy as np\n",
        "import os\n",
        "import random\n",
        "\n",
        "def augment_image(image):\n",
        "    h, w = image.shape[:2]\n",
        "\n",
        "    # Rotation\n",
        "    angle = random.uniform(-15, 15)\n",
        "    M = cv2.getRotationMatrix2D((w // 2, h // 2), angle, 1)\n",
        "    rotated = cv2.warpAffine(image, M, (w, h))\n",
        "\n",
        "    # Brightness\n",
        "    value = random.randint(-50, 50)\n",
        "    bright = cv2.convertScaleAbs(rotated, alpha=1, beta=value)\n",
        "\n",
        "    # Flip\n",
        "    if random.choice([True, False]):\n",
        "        flipped = cv2.flip(bright, 1)\n",
        "    else:\n",
        "        flipped = bright\n",
        "\n",
        "    # Zoom\n",
        "    zoom_factor = random.uniform(0.9, 1.1)\n",
        "    # Ensure zoomed dimensions are not zero or negative\n",
        "    new_w, new_h = int(w * zoom_factor), int(h * zoom_factor)\n",
        "    if new_w <= 0 or new_h <= 0:\n",
        "        zoomed = flipped\n",
        "    else:\n",
        "        zoomed = cv2.resize(flipped, (new_w, new_h))\n",
        "\n",
        "\n",
        "    # Resize back to original\n",
        "    zoomed = cv2.resize(zoomed, (w, h))\n",
        "\n",
        "\n",
        "    # Gaussian Blur\n",
        "    if random.choice([True, False]):\n",
        "        blurred = cv2.GaussianBlur(zoomed, (3, 3), 0)\n",
        "    else:\n",
        "        blurred = zoomed\n",
        "\n",
        "    return blurred\n",
        "\n",
        "def generate_augmented_images(image_path, output_dir, count=20):\n",
        "    os.makedirs(output_dir, exist_ok=True)\n",
        "    image = cv2.imread(image_path)\n",
        "\n",
        "    if image is None:\n",
        "        print(f\" Error: Could not read image from {image_path}. Please ensure the file exists and the path is correct for the Colab environment.\")\n",
        "        return\n",
        "\n",
        "    for i in range(count):\n",
        "        aug = augment_image(image)\n",
        "        output_path = os.path.join(output_dir, f\"aug_{i}.jpg\")\n",
        "        cv2.imwrite(output_path, aug)\n",
        "\n",
        "    print(f\" {count} augmented images saved in: {output_dir}\")\n",
        "\n",
        "image_path = \"/content/Segment f missing in Digit8 & LED1 - OFF(class 4).png\"\n",
        "output_folder = \"augmented/digit_dotmiss\"\n",
        "\n",
        "generate_augmented_images(image_path, output_folder, count=30)"
      ]
    }
  ]
}